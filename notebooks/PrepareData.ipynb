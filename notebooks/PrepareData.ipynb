{
 "cells": [
  {
   "cell_type": "markdown",
   "metadata": {
    "heading_collapsed": true
   },
   "source": [
    "# Text-mined dataset"
   ]
  },
  {
   "cell_type": "code",
   "execution_count": 2,
   "metadata": {
    "hidden": true
   },
   "outputs": [
    {
     "name": "stdout",
     "output_type": "stream",
     "text": [
      "The pickle file intermediate_data/Reactions_Solid_State_legacy_v14_2.pickle does not exist, try to download from database...\n",
      "Downloading reactions from SynPro\n",
      "100%|███████████████████████████████████| 30004/30004 [00:14<00:00, 2112.98it/s]\n",
      "Downloaded 30004 reactions from SynPro\n",
      "Found 30004 Reactions\n",
      "100%|███████████████████████████████████| 30004/30004 [1:53:38<00:00,  4.40it/s]\n",
      "Thermonized 2 reactions using MP data.\n",
      "100%|██████████████████████████████████| 30004/30004 [00:02<00:00, 13880.57it/s]\n",
      "Thermonized 2 reactions using FREED data.\n"
     ]
    }
   ],
   "source": [
    "!python ../../s4/scripts/001.thermonize_dmm.py \\\n",
    "    --download-fn intermediate_data/Reactions_Solid_State_legacy_v14_2.pypickle \\\n",
    "    --mp-output intermediate_data/DMM_Thermonized_MP.pypickle \\\n",
    "    --freed-output intermediate_data/DMM_Thermonized_FREED.pypickle"
   ]
  },
  {
   "cell_type": "code",
   "execution_count": 17,
   "metadata": {
    "hidden": true,
    "scrolled": false
   },
   "outputs": [
    {
     "name": "stdout",
     "output_type": "stream",
     "text": [
      "======================================================================\n",
      "Exception <class 'ValueError'>\n",
      "5111 Linear system has no solution\n",
      "0020 This material has 11 thermo entries, please specify you need a list by setting allow_many=True.\n",
      "0008 could not convert string to float: '1-'\n",
      "0008 could not convert string to float: '6.0-'\n",
      "0037 could not convert string to float: '12.0-'\n",
      "0062 could not convert string to float: '3-'\n",
      "0023 could not convert string to float: '2.0-4'\n",
      "0001 Can't parse Element or String from type <class 'str'>: Nx.\n",
      "0012 could not convert string to float: '2-'\n",
      "0002 could not convert string to float: '2.0-'\n",
      "0002 could not convert string to float: '4.0-'\n",
      "0017 could not convert string to float: '3-2'\n",
      "0003 could not convert string to float: '.'\n",
      "0003 could not convert string to float: '4-'\n",
      "0002 could not convert string to float: '0.9-'\n",
      "0001 could not convert string to float: '1.0-4'\n",
      "0007 could not convert string to float: '3-3'\n",
      "0001 could not convert string to float: '3-4'\n",
      "0001 could not convert string to float: '2.0-2'\n",
      "0001 could not convert string to float: '6.0-4'\n",
      "0002 could not convert string to float: '12-'\n",
      "0001 could not convert string to float: '3-0.8'\n",
      "0001 could not convert string to float: '8.0-4'\n",
      "0001 Can't parse Element or String from type <class 'str'>: Cit.\n",
      "0001 could not convert string to float: '-'\n",
      "0002 could not convert string to float: '1-4'\n",
      "======================================================================\n",
      "Exception <class 'pymatgen.core.composition.CompositionError'>\n",
      "0578 ·6 is an invalid formula!\n",
      "0046 ·3 is an invalid formula!\n",
      "0420 · is an invalid formula!\n",
      "0250 ·4 is an invalid formula!\n",
      "0212 ·9 is an invalid formula!\n",
      "0019 ·12 is an invalid formula!\n",
      "0399 ·2 is an invalid formula!\n",
      "0020 ·8 is an invalid formula!\n",
      "0103 ·5 is an invalid formula!\n",
      "0010 /3/3/3 is an invalid formula!\n",
      "0003 /2/2 is an invalid formula!\n",
      "0002 6 is an invalid formula!\n",
      "0001 +0.8 is an invalid formula!\n",
      "0012 3 is an invalid formula!\n",
      "0029 4 is an invalid formula!\n",
      "0008 ·0.5 is an invalid formula!\n",
      "0002 via is an invalid formula!\n",
      "0004 1 is an invalid formula!\n",
      "0002 /3 is an invalid formula!\n",
      "0024 ·n is an invalid formula!\n",
      "0020 ·x is an invalid formula!\n",
      "0015 ·7 is an invalid formula!\n",
      "0006 ac is an invalid formula!\n",
      "0004 ·2.5 is an invalid formula!\n",
      "0002 31996 is an invalid formula!\n",
      "0002 , is an invalid formula!\n",
      "0009 ·10 is an invalid formula!\n",
      "0001 + is an invalid formula!\n",
      "0003 5 is an invalid formula!\n",
      "0001 i- is an invalid formula!\n",
      "0001 all is an invalid formula!\n",
      "0002 ·2.9 is an invalid formula!\n",
      "0007 7· is an invalid formula!\n",
      "0001 60 is an invalid formula!\n",
      "0001 0.01 is an invalid formula!\n",
      "0001 ·0.949 is an invalid formula!\n",
      "0001 up is an invalid formula!\n",
      "0002 ·4.5 is an invalid formula!\n",
      "0001 +10 is an invalid formula!\n",
      "0006 ·1.5 is an invalid formula!\n",
      "0002 /4 is an invalid formula!\n",
      "0001 ·19 is an invalid formula!\n",
      "0001 /8/16/4/4 is an invalid formula!\n",
      "0001 ,, is an invalid formula!\n",
      "0003 ··6 is an invalid formula!\n",
      "0001 О3 is an invalid formula!\n",
      "0002 /3/3 is an invalid formula!\n",
      "0001 211 is an invalid formula!\n",
      "0001 97 is an invalid formula!\n",
      "0001 3·4 is an invalid formula!\n",
      "0002 +30 is an invalid formula!\n",
      "0001 2·n is an invalid formula!\n",
      "0001 +0.004 is an invalid formula!\n",
      "0001 +3.0 is an invalid formula!\n",
      "0001 /2 is an invalid formula!\n",
      "0001 pct is an invalid formula!\n",
      "0001 ·0.059 is an invalid formula!\n",
      "0001 ·2.74 is an invalid formula!\n",
      "0001 011 is an invalid formula!\n",
      "0001 1.065 is an invalid formula!\n",
      "0001 +99 is an invalid formula!\n",
      "0001 ·2.4 is an invalid formula!\n",
      "0001 xy is an invalid formula!\n",
      "======================================================================\n",
      "Exception <class 'IndexError'>\n",
      "0053 list index out of range\n",
      "======================================================================\n",
      "Exception <class 's4.cascade.balance.CannotBalance'>\n",
      "0536 Target is included in precursor/open_comp list.\n",
      "0204 Found undetermined variables Matrix([[tau0]]).\n",
      "0004 Found undetermined variables Matrix([[tau0], [tau1]]).\n",
      "0001 Found undetermined variables Matrix([[tau0], [tau1], [tau2]]).\n",
      "======================================================================\n",
      "Exception <class 'AssertionError'>\n",
      "0417 The material does not have thermo data.\n",
      "0001 Amount of precursor TiPbO3 is negative!\n",
      "0007 Amount of precursor Al2O3 is negative!\n",
      "0002 Amount of precursor N2 is negative!\n",
      "0003 Amount of precursor CeN is negative!\n",
      "0002 Amount of precursor GaSe is negative!\n",
      "0003 Amount of precursor TiO2 is negative!\n",
      "0001 Amount of precursor Fe is negative!\n",
      "0002 Amount of precursor Cu0.99999997O0.99999997 is negative!\n",
      "0006 Amount of precursor CaCO3 is negative!\n",
      "0002 Amount of precursor H6C3O is negative!\n",
      "0001 Amount of precursor Ni is negative!\n",
      "0002 Amount of precursor H2O is negative!\n",
      "0007 Amount of precursor SiO2 is negative!\n",
      "0005 Amount of precursor Li2CO3 is negative!\n",
      "0001 Amount of precursor Cu2S is negative!\n",
      "0002 Amount of precursor B2O3 is negative!\n",
      "0002 Amount of precursor Fe2O3 is negative!\n",
      "0002 Amount of precursor Li is negative!\n",
      "0015 Amount of precursor AlN is negative!\n",
      "0001 Amount of precursor H2CO is negative!\n",
      "0002 Amount of precursor ZrO2 is negative!\n",
      "0001 Amount of precursor FeF3 is negative!\n",
      "0003 Amount of precursor Nb2O5 is negative!\n",
      "0003 Amount of precursor Co2O3 is negative!\n",
      "0002 Amount of precursor BaPrO3 is negative!\n",
      "0001 Amount of precursor Ti2Nb10O29 is negative!\n",
      "0009 Amount of precursor Co3O4 is negative!\n",
      "0001 Amount of precursor ZnSe is negative!\n",
      "0002 Amount of precursor ZrO is negative!\n",
      "0001 Amount of precursor SrWO4 is negative!\n",
      "0004 Amount of precursor H6C2O is negative!\n",
      "0002 Amount of precursor ZnO is negative!\n",
      "0001 Amount of precursor NiCO3 is negative!\n",
      "0001 Amount of precursor Ge is negative!\n",
      "0001 Amount of precursor H17C9O is negative!\n",
      "0001 Amount of precursor Te is negative!\n",
      "0001 Amount of precursor TeO2 is negative!\n",
      "0001 Amount of precursor NiO is negative!\n",
      "0001 Amount of precursor SrAl12O19 is negative!\n",
      "0001 Amount of precursor Cd(NO3)2 is negative!\n",
      "0001 Amount of precursor Cu is negative!\n",
      "0002 Amount of precursor Si3N4 is negative!\n",
      "0001 Amount of precursor Cu6Sn5 is negative!\n",
      "0001 Amount of precursor Nb is negative!\n",
      "0001 Amount of precursor FeAs is negative!\n",
      "0001 Amount of precursor CoCO3 is negative!\n",
      "0001 Amount of precursor Ta2O5 is negative!\n",
      "0001 Amount of precursor MgF2 is negative!\n",
      "0001 Amount of precursor La is negative!\n",
      "0001 Amount of precursor H5NO is negative!\n",
      "0001 Amount of precursor Lu2O3 is negative!\n",
      "0001 Amount of precursor PbF2 is negative!\n",
      "0001 Amount of precursor Ni(NO3)2 is negative!\n",
      "0001 Amount of precursor Si is negative!\n",
      "0002 Amount of precursor Zn3Sb2 is negative!\n",
      "0001 Amount of precursor Bi2S3 is negative!\n",
      "0001 Amount of precursor CeO2 is negative!\n",
      "0001 Amount of precursor Al is negative!\n",
      "0001 Amount of precursor Y2O3 is negative!\n",
      "0001 Amount of precursor In41Cu13(Sn3S40)2 is negative!\n",
      "0001 Amount of precursor In7Cu3(SnS8)2 is negative!\n",
      "======================================================================\n",
      "Exception <class 'TypeError'>\n",
      "0033 '<' not supported between instances of 'NoneType' and 'NoneType'\n"
     ]
    }
   ],
   "source": [
    "import pickle\n",
    "from collections import Counter\n",
    "\n",
    "with open('intermediate_data/DMM_Thermonized_MP.pypickle', 'rb') as f:\n",
    "    data = pickle.load(f)\n",
    "\n",
    "for k in data[1]:\n",
    "    v = data[1][k]\n",
    "    error_counting = Counter(x['exception_desc'] for x in v)\n",
    "\n",
    "    print('='*70)\n",
    "    print('Exception', k)\n",
    "\n",
    "    for err, cnt in error_counting.items():\n",
    "        print('%04d %s' % (cnt, err))"
   ]
  },
  {
   "cell_type": "code",
   "execution_count": 38,
   "metadata": {
    "hidden": true
   },
   "outputs": [
    {
     "name": "stdout",
     "output_type": "stream",
     "text": [
      "Loading dataset from intermediate_data/DMM_Thermonized_MP.pypickle\n",
      "Found 21039 recipes\n",
      "Found 16070 valid recipes with temperature above 500 degC\n",
      "Computing cascades at the specified temperatures: [500, 750, 1000, 1250, 1500, 1750]...\n",
      "Cascades: 100%|█████████████████████████| 16070/16070 [4:45:32<00:00,  1.07s/it]\n",
      "Cascades: 100%|█████████████████████████| 16070/16070 [4:45:32<00:00,  1.07s/it]\n"
     ]
    }
   ],
   "source": [
    "!python ../../s4/scripts/002.compute_cascades.py \\\n",
    "    --reactions-file intermediate_data/DMM_Thermonized_MP.pypickle \\\n",
    "    --output-fn intermediate_data/DMM_Cascades.pypickle \\\n",
    "    --cascade-temperatures '[500,750,1000,1250,1500,1750]'"
   ]
  },
  {
   "cell_type": "code",
   "execution_count": 62,
   "metadata": {
    "hidden": true
   },
   "outputs": [
    {
     "name": "stdout",
     "output_type": "stream",
     "text": [
      "======================================================================\n",
      "Exception <class 's4.cascade.balance.CannotBalance'>\n",
      "0217 Target is included in precursor/open_comp list.\n",
      "======================================================================\n",
      "Exception <class 'TypeError'>\n",
      "0328 '<' not supported between instances of 'NoneType' and 'NoneType'\n",
      "0006 '<' not supported between instances of 'NoneType' and 'float'\n"
     ]
    }
   ],
   "source": [
    "import pickle\n",
    "from collections import defaultdict, Counter\n",
    "\n",
    "with open('intermediate_data/DMM_Cascades.pypickle', 'rb') as f:\n",
    "    data = pickle.load(f)\n",
    "    \n",
    "cascade_error = defaultdict(Counter)\n",
    "\n",
    "for key in data:\n",
    "    for k, reaction in data[key]:\n",
    "        for temp, cascade in reaction.items():\n",
    "            if cascade['error']:\n",
    "                cascade_error[cascade['exception']][cascade['exception_desc']] += 1\n",
    "                q = cascade\n",
    "for exp_name in cascade_error:\n",
    "    print('='*70)\n",
    "    print('Exception', exp_name)\n",
    "\n",
    "    for err, cnt in cascade_error[exp_name].items():\n",
    "        print('%04d %s' % (cnt, err))"
   ]
  },
  {
   "cell_type": "code",
   "execution_count": 78,
   "metadata": {
    "hidden": true
   },
   "outputs": [
    {
     "name": "stdout",
     "output_type": "stream",
     "text": [
      "Loaded 21039 reaction data\n",
      "Loaded 30004 TMS data\n",
      "All MP\n",
      "========================================\n",
      "Analysis of cascade results (per recipe):\n",
      "Successful: 5999, failed: 11566, joint (has both success/failure): 1524\n",
      "Featurizing: 100%|██████████████████████████| 7562/7562 [45:01<00:00,  2.80it/s]\n",
      "Computed 7562 entries\n",
      "Writing results to intermediate_data/DMM_TrainingData.pypickle\n"
     ]
    }
   ],
   "source": [
    "!python ../../s4/scripts/003.prepare_ml_data.py \\\n",
    "    --reactions-file intermediate_data/DMM_Thermonized_MP.pypickle \\\n",
    "    --text-mined-recipes-file intermediate_data/Reactions_Solid_State_legacy_v14_2.pypickle \\\n",
    "    --output-fn intermediate_data/DMM_TrainingData.pypickle \\\n",
    "    --cascade-file intermediate_data/DMM_Cascades.pypickle"
   ]
  },
  {
   "cell_type": "markdown",
   "metadata": {},
   "source": [
    "# PCD dataset"
   ]
  },
  {
   "cell_type": "code",
   "execution_count": 15,
   "metadata": {},
   "outputs": [],
   "source": [
    "with open('intermediate_data/PCD_Reactions.pypickle', 'wb') as f:\n",
    "    pickle.dump((data, {}), f)"
   ]
  },
  {
   "cell_type": "code",
   "execution_count": 16,
   "metadata": {},
   "outputs": [
    {
     "name": "stdout",
     "output_type": "stream",
     "text": [
      "Loading dataset from intermediate_data/PCD_Reactions.pypickle\n",
      "Found 32960 recipes\n",
      "Found 32166 valid recipes with temperature above 500 degC\n",
      "Computing cascades at the specified temperatures: [1000]...\n",
      "Cascades: 100%|███████████████████████████| 32166/32166 [29:55<00:00, 17.91it/s]\n"
     ]
    }
   ],
   "source": [
    "!python ../../s4/scripts/002.compute_cascades.py \\\n",
    "    --reactions-file intermediate_data/PCD_Reactions.pypickle \\\n",
    "    --output-fn intermediate_data/PCD_Cascades.pypickle \\\n",
    "    --cascade-temperatures '[1000]'"
   ]
  },
  {
   "cell_type": "code",
   "execution_count": 17,
   "metadata": {},
   "outputs": [
    {
     "name": "stdout",
     "output_type": "stream",
     "text": [
      "======================================================================\n",
      "Exception <class 'TypeError'>\n",
      "0008 '<' not supported between instances of 'NoneType' and 'float'\n",
      "======================================================================\n",
      "Exception <class 'KeyError'>\n",
      "0008 'Pa'\n",
      "======================================================================\n",
      "Exception <class 'ValueError'>\n",
      "0004 Linear system has no solution\n",
      "======================================================================\n",
      "Exception <class 's4.cascade.balance.CannotBalance'>\n",
      "0004 Target is included in precursor/open_comp list.\n"
     ]
    }
   ],
   "source": [
    "import pickle\n",
    "from collections import defaultdict, Counter\n",
    "\n",
    "with open('intermediate_data/PCD_Cascades.pypickle', 'rb') as f:\n",
    "    data = pickle.load(f)\n",
    "    \n",
    "cascade_error = defaultdict(Counter)\n",
    "\n",
    "for key in data:\n",
    "    for k, reaction in data[key]:\n",
    "        for temp, cascade in reaction.items():\n",
    "            if cascade['error']:\n",
    "                cascade_error[cascade['exception']][cascade['exception_desc']] += 1\n",
    "                q = cascade\n",
    "for exp_name in cascade_error:\n",
    "    print('='*70)\n",
    "    print('Exception', exp_name)\n",
    "\n",
    "    for err, cnt in cascade_error[exp_name].items():\n",
    "        print('%04d %s' % (cnt, err))"
   ]
  },
  {
   "cell_type": "code",
   "execution_count": 18,
   "metadata": {},
   "outputs": [
    {
     "name": "stdout",
     "output_type": "stream",
     "text": [
      "Loaded 32960 reaction data\n",
      "All MP\n",
      "========================================\n",
      "Analysis of cascade results (per recipe):\n",
      "Successful: 7677, failed: 24477, joint (has both success/failure): 0\n",
      "Featurizing:   9%|██▎                        | 672/7677 [02:10<52:37,  2.22it/s]/home/hhuo/anaconda3/envs/synthesis/lib/python3.7/site-packages/pymatgen/ext/matproj.py:586: DeprecationWarning: __init__ is deprecated\n",
      "MaterialsProjectCompatibility will be updated with new correction classes as well as new values of corrections and uncertainties in 2020\n",
      "  entries = MaterialsProjectCompatibility().process_entries(entries)\n",
      "Featurizing:  37%|█████████▋                | 2846/7677 [09:43<15:25,  5.22it/s]/home/hhuo/anaconda3/envs/synthesis/lib/python3.7/site-packages/pymatgen/ext/matproj.py:586: DeprecationWarning: __init__ is deprecated\n",
      "MaterialsProjectCompatibility will be updated with new correction classes as well as new values of corrections and uncertainties in 2020\n",
      "  entries = MaterialsProjectCompatibility().process_entries(entries)\n",
      "Featurizing:  46%|████████████              | 3551/7677 [12:18<16:53,  4.07it/s]/home/hhuo/anaconda3/envs/synthesis/lib/python3.7/site-packages/pymatgen/ext/matproj.py:586: DeprecationWarning: __init__ is deprecated\n",
      "MaterialsProjectCompatibility will be updated with new correction classes as well as new values of corrections and uncertainties in 2020\n",
      "  entries = MaterialsProjectCompatibility().process_entries(entries)\n",
      "Featurizing:  73%|██████████████████▉       | 5610/7677 [19:05<09:14,  3.73it/s]/home/hhuo/anaconda3/envs/synthesis/lib/python3.7/site-packages/pymatgen/ext/matproj.py:586: DeprecationWarning: __init__ is deprecated\n",
      "MaterialsProjectCompatibility will be updated with new correction classes as well as new values of corrections and uncertainties in 2020\n",
      "  entries = MaterialsProjectCompatibility().process_entries(entries)\n",
      "Featurizing:  76%|███████████████████▋      | 5828/7677 [19:45<06:38,  4.64it/s]/home/hhuo/anaconda3/envs/synthesis/lib/python3.7/site-packages/pymatgen/ext/matproj.py:586: DeprecationWarning: __init__ is deprecated\n",
      "MaterialsProjectCompatibility will be updated with new correction classes as well as new values of corrections and uncertainties in 2020\n",
      "  entries = MaterialsProjectCompatibility().process_entries(entries)\n",
      "Featurizing:  83%|█████████████████████▋    | 6409/7677 [21:36<03:07,  6.75it/s]/home/hhuo/anaconda3/envs/synthesis/lib/python3.7/site-packages/pymatgen/ext/matproj.py:586: DeprecationWarning: __init__ is deprecated\n",
      "MaterialsProjectCompatibility will be updated with new correction classes as well as new values of corrections and uncertainties in 2020\n",
      "  entries = MaterialsProjectCompatibility().process_entries(entries)\n",
      "Featurizing: 100%|██████████████████████████| 7677/7677 [26:06<00:00,  4.90it/s]\n",
      "Computed 7677 entries\n",
      "Writing results to intermediate_data/PCD_TrainingData.pypickle\n"
     ]
    }
   ],
   "source": [
    "!python ../../s4/scripts/003.prepare_ml_data.py \\\n",
    "    --reactions-file intermediate_data/PCD_Reactions.pypickle \\\n",
    "    --output-fn intermediate_data/PCD_TrainingData.pypickle \\\n",
    "    --cascade-file intermediate_data/PCD_Cascades.pypickle"
   ]
  },
  {
   "cell_type": "code",
   "execution_count": null,
   "metadata": {},
   "outputs": [],
   "source": []
  }
 ],
 "metadata": {
  "kernelspec": {
   "display_name": "Python (synthesis)",
   "language": "python",
   "name": "synthesis"
  },
  "language_info": {
   "codemirror_mode": {
    "name": "ipython",
    "version": 3
   },
   "file_extension": ".py",
   "mimetype": "text/x-python",
   "name": "python",
   "nbconvert_exporter": "python",
   "pygments_lexer": "ipython3",
   "version": "3.7.7"
  },
  "toc": {
   "base_numbering": 1,
   "nav_menu": {},
   "number_sections": true,
   "sideBar": true,
   "skip_h1_title": false,
   "title_cell": "Table of Contents",
   "title_sidebar": "Contents",
   "toc_cell": false,
   "toc_position": {},
   "toc_section_display": true,
   "toc_window_display": false
  }
 },
 "nbformat": 4,
 "nbformat_minor": 4
}
