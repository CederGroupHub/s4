{
 "cells": [
  {
   "cell_type": "code",
   "execution_count": 17,
   "metadata": {
    "scrolled": true
   },
   "outputs": [
    {
     "name": "stderr",
     "output_type": "stream",
     "text": [
      "100%|██████████| 6928/6928 [1:33:14<00:00,  1.24it/s]  \n"
     ]
    }
   ],
   "source": [
    "import requests\n",
    "import json\n",
    "from tqdm import tqdm\n",
    "\n",
    "with open('PCD_Mapper.json') as f:\n",
    "    mapper = json.load(f)\n",
    "\n",
    "k2crossref = {}\n",
    "\n",
    "\n",
    "def query(title, authors):\n",
    "    query_params = {\n",
    "        'sort': 'relevance',\n",
    "        'order': 'desc',\n",
    "        'query.bibliographic': title,\n",
    "    }\n",
    "    query_url = 'https://api.crossref.org/works'\n",
    "    query_results = requests.get(\n",
    "        query_url,\n",
    "        params=query_params,\n",
    "    )\n",
    "\n",
    "    return query_results.json()\n",
    "\n",
    "for k in tqdm(mapper['k2ref']):\n",
    "    if k in k2crossref:\n",
    "        continue\n",
    "\n",
    "    try:\n",
    "        k2crossref[k] = query(mapper['k2ref'][k]['title'], None)\n",
    "    except Exception as e:\n",
    "        if isinstance(e, KeyboardInterrupt):\n",
    "            raise\n",
    "        continue\n",
    "        \n",
    "with open('PCD_Crossref.json', 'w') as f:\n",
    "    json.dump(k2crossref, f)"
   ]
  },
  {
   "cell_type": "code",
   "execution_count": 1,
   "metadata": {},
   "outputs": [],
   "source": [
    "import json\n",
    "\n",
    "with open('PCD_Mapper.json') as f:\n",
    "    mapper = json.load(f)\n",
    "    \n",
    "with open(\"PCD_Crossref.json\") as f:\n",
    "    k2crossref = json.load(f)"
   ]
  },
  {
   "cell_type": "code",
   "execution_count": 2,
   "metadata": {},
   "outputs": [],
   "source": [
    "import re\n",
    "\n",
    "\n",
    "ks = []\n",
    "authors1 = []\n",
    "authors2 = []\n",
    "titles1 = []\n",
    "titles2 = []\n",
    "doi = []\n",
    "\n",
    "for k in mapper['k2ref']:\n",
    "    ks.append(k)\n",
    "    titles1.append(mapper['k2ref'][k]['title'])\n",
    "    titles2.append(k2crossref[k]['message']['items'][0]['title'][0])\n",
    "    doi.append(k2crossref[k]['message']['items'][0]['DOI'])\n",
    "#     authors1.append([re.search(r'^\\w+', x).group(0) for x in mapper['k2ref'][k]['authors']])\n",
    "#     authors2.append([re.search(r'^\\w+', x['family']).group(0) for x in k2crossref[k]['message']['items'][0]['author']])"
   ]
  },
  {
   "cell_type": "code",
   "execution_count": 7,
   "metadata": {},
   "outputs": [
    {
     "data": {
      "text/plain": [
       "<AxesSubplot:ylabel='Frequency'>"
      ]
     },
     "execution_count": 7,
     "metadata": {},
     "output_type": "execute_result"
    },
    {
     "data": {
      "image/png": "[encoded data removed]",
      "text/plain": [
       "<Figure size 432x288 with 1 Axes>"
      ]
     },
     "metadata": {
      "needs_background": "light"
     },
     "output_type": "display_data"
    }
   ],
   "source": [
    "import pandas as pd\n",
    "from nltk import edit_distance\n",
    "\n",
    "pcd_mapped = pd.DataFrame({\n",
    "    'ks': ks, \n",
    "    'titles1': titles1, \n",
    "    'titles2': titles2,\n",
    "    'ed': [edit_distance(x1, x2) / len(x2) for x1, x2 in zip(titles1, titles2)],\n",
    "    'doi': doi,\n",
    "})\n",
    "k2doi = {x['ks']: x['doi'] for i, x in pcd_mapped.iterrows()}\n",
    "pcd_mapped.ed.plot(kind='hist', range=(0, 1))"
   ]
  },
  {
   "cell_type": "code",
   "execution_count": 38,
   "metadata": {},
   "outputs": [],
   "source": [
    "import pickle\n",
    "dmm_data = pickle.load(open('intermediate_data/DMM_TrainingData.pypickle', 'rb'))\n",
    "pcd_data_prefiltering = pickle.load(open('intermediate_data/PCD_TrainingData_prefiltering.pypickle', 'rb'))"
   ]
  },
  {
   "cell_type": "code",
   "execution_count": 39,
   "metadata": {
    "scrolled": true
   },
   "outputs": [
    {
     "data": {
      "text/plain": [
       "(7562, 7677, 181)"
      ]
     },
     "execution_count": 39,
     "metadata": {},
     "output_type": "execute_result"
    }
   ],
   "source": [
    "duplicates = set(dmm_data.meta_doi) & set(pcd_mapped.doi.values.tolist())\n",
    "len(dmm_data), len(pcd_data_prefiltering), len(duplicates)"
   ]
  },
  {
   "cell_type": "code",
   "execution_count": 40,
   "metadata": {},
   "outputs": [
    {
     "data": {
      "text/plain": [
       "7227"
      ]
     },
     "execution_count": 40,
     "metadata": {},
     "output_type": "execute_result"
    }
   ],
   "source": [
    "pcd_data = pcd_data_prefiltering.copy()\n",
    "pcd_data['meta_doi'] = pcd_data['meta_k'].apply(lambda x: k2doi.get(x, 'N/A'))\n",
    "pcd_data = pcd_data.loc[pcd_data.meta_doi.apply(lambda x: x not in duplicates)]\n",
    "len(pcd_data)"
   ]
  },
  {
   "cell_type": "code",
   "execution_count": 41,
   "metadata": {},
   "outputs": [],
   "source": [
    "with open('intermediate_data/PCD_TrainingData.pypickle', 'wb') as f:\n",
    "    pickle.dump(pcd_data, f)"
   ]
  },
  {
   "cell_type": "code",
   "execution_count": null,
   "metadata": {},
   "outputs": [],
   "source": []
  }
 ],
 "metadata": {
  "kernelspec": {
   "display_name": "Python 3 (ipykernel)",
   "language": "python",
   "name": "python3"
  },
  "language_info": {
   "codemirror_mode": {
    "name": "ipython",
    "version": 3
   },
   "file_extension": ".py",
   "mimetype": "text/x-python",
   "name": "python",
   "nbconvert_exporter": "python",
   "pygments_lexer": "ipython3",
   "version": "3.8.11"
  },
  "toc": {
   "base_numbering": 1,
   "nav_menu": {},
   "number_sections": true,
   "sideBar": true,
   "skip_h1_title": false,
   "title_cell": "Table of Contents",
   "title_sidebar": "Contents",
   "toc_cell": false,
   "toc_position": {},
   "toc_section_display": true,
   "toc_window_display": false
  }
 },
 "nbformat": 4,
 "nbformat_minor": 4
}
