{
 "cells": [
  {
   "cell_type": "code",
   "execution_count": 1,
   "id": "2ad55832-6a8e-49c1-8415-192e48579bb0",
   "metadata": {
    "scrolled": true
   },
   "outputs": [
    {
     "data": {
      "text/plain": [
       "(-2.5, 0.1)"
      ]
     },
     "execution_count": 1,
     "metadata": {},
     "output_type": "execute_result"
    },
    {
     "data": {
      "image/png": "[encoded data removed]",
      "text/plain": [
       "<Figure size 432x288 with 1 Axes>"
      ]
     },
     "metadata": {
      "needs_background": "light"
     },
     "output_type": "display_data"
    }
   ],
   "source": [
    "import scipy.interpolate\n",
    "import matplotlib.pyplot as plt\n",
    "import numpy\n",
    "\n",
    "x = [0, 1, 2, 3]\n",
    "y = [0, -1.5, -2.0, -2.2]\n",
    "plt.plot(x, y, 'o-', markersize=10)\n",
    "plt.xlabel('Reaction progress', fontsize=14)\n",
    "plt.ylabel('Grand potential remaining', fontsize=14)\n",
    "\n",
    "x.append(4)\n",
    "y.append(-2.2)\n",
    "y_interp = scipy.interpolate.interp1d(x, y, kind='linear')\n",
    "x = numpy.linspace(0, 4, 100)\n",
    "y = y_interp(x)\n",
    "\n",
    "for y_percent in range(1, 11):\n",
    "    plt.fill_between(x, numpy.maximum(y, -2.2/10*y_percent), 0.1, facecolor='red', alpha=0.1)\n",
    "\n",
    "# plt.xticks([0, 1, 2, 3])\n",
    "plt.xticks([])\n",
    "plt.yticks([0, -2.2/4, -2.2/2, -2.2/4*3, -2.2], ['100%', '75%', '50%', '25%', '0'])\n",
    "\n",
    "plt.text(0.25, -0.12, '{$A$, $B$, $2C$}', bbox=dict(facecolor='white', alpha=1.0, edgecolor='k', boxstyle='round,pad=0.3'))\n",
    "plt.text(1.02, -1.28, '{$AC$, $B$, $C$}', bbox=dict(facecolor='white', alpha=1.0, edgecolor='k', boxstyle='round,pad=0.3'))\n",
    "plt.text(1.95, -1.75, '{$AC$, $BC$}', bbox=dict(facecolor='white', alpha=1.0, edgecolor='k', boxstyle='round,pad=0.3'))\n",
    "plt.text(3.02, -2.02, '{$ACBC_2$}', bbox=dict(facecolor='white', alpha=1.0, edgecolor='k', boxstyle='round,pad=0.3'))\n",
    "\n",
    "plt.text(0.60, -0.75, '$A+C\\\\to AC$', bbox=dict(facecolor='white', alpha=0.0, edgecolor='none', boxstyle='round,pad=0.3'))\n",
    "plt.text(0.80, -1.95, '$B+C\\\\to BC$', bbox=dict(facecolor='white', alpha=0.0, edgecolor='none', boxstyle='round,pad=0.3'))\n",
    "plt.text(1.60, -2.33, '$AC+BC\\\\to ABC_2$', bbox=dict(facecolor='white', alpha=0.0, edgecolor='none', boxstyle='round,pad=0.3'))\n",
    "plt.xlim([-0.1, 3.8])\n",
    "plt.ylim([-2.5, 0.1])\n",
    "# plt.grid('on')"
   ]
  },
  {
   "cell_type": "code",
   "execution_count": 2,
   "id": "5c1cc8f5-0073-4d43-88bb-eb3543762c06",
   "metadata": {},
   "outputs": [
    {
     "name": "stderr",
     "output_type": "stream",
     "text": [
      "/Users/huohaoyan/miniconda3/envs/s4/lib/python3.7/site-packages/maggma/utils.py:20: TqdmExperimentalWarning: Using `tqdm.autonotebook.tqdm` in notebook mode. Use `tqdm.tqdm` instead to force console mode (e.g. in jupyter console)\n",
      "  from tqdm.autonotebook import tqdm\n"
     ]
    },
    {
     "data": {
      "text/plain": [
       "[{'driving_force': -0.4195086425659669,\n",
       "  'temperature': 500,\n",
       "  'previous_vessel': {1.0 CoO, 0.3333 Na2O2},\n",
       "  'current_vessel': {0.3333 CoO, 0.6667 Na1Co1O2},\n",
       "  'reason': 'cascade: determined by minimizing dG/m.a'},\n",
       " {'driving_force': -0.037765379636589554,\n",
       "  'temperature': 500,\n",
       "  'previous_vessel': {0.3333 CoO, 0.6667 Na1Co1O2},\n",
       "  'current_vessel': {0.5 Na1Co1O2, 0.1667 Na1Co3O6},\n",
       "  'reason': 'cascade: determined by minimizing dG/m.a'},\n",
       " {'driving_force': -0.021780617177087437,\n",
       "  'temperature': 500,\n",
       "  'previous_vessel': {0.5 Na1Co1O2, 0.1667 Na1Co3O6},\n",
       "  'current_vessel': {0.2222 Na1Co1O2, 0.1111 Na4Co7O14},\n",
       "  'reason': 'cascade: determined by minimizing dG/m.a'},\n",
       " {'driving_force': -0.0015646056138710655,\n",
       "  'temperature': 500,\n",
       "  'previous_vessel': {0.2222 Na1Co1O2, 0.1111 Na4Co7O14},\n",
       "  'current_vessel': {0.0667 Na4Co7O14, 0.1333 Na3Co4O8},\n",
       "  'reason': 'cascade: determined by minimizing dG/m.a'},\n",
       " {'driving_force': 0.0018870757762980397,\n",
       "  'temperature': 500,\n",
       "  'previous_vessel': {0.0667 Na4Co7O14, 0.1333 Na3Co4O8},\n",
       "  'current_vessel': {0.1111 Na3Co4O8, 0.1111 Na3Co5O10},\n",
       "  'reason': 'cascade: determined by minimizing dG/m.a'},\n",
       " {'driving_force': 0.08069345991540304,\n",
       "  'temperature': 500,\n",
       "  'previous_vessel': {0.1111 Na3Co4O8, 0.1111 Na3Co5O10},\n",
       "  'current_vessel': {0.3333 Na2Co3O6},\n",
       "  'reason': 'cascade: determined by minimizing dG/m.a'}]"
      ]
     },
     "execution_count": 2,
     "metadata": {},
     "output_type": "execute_result"
    }
   ],
   "source": [
    "from s4.tmr import (\n",
    "    ReactionEnergies, MaterialWithEnergy,\n",
    "    MPInterpolatedMaterial, GasMaterial)\n",
    "from s4.cascade.analysis import compute_cascade\n",
    "from s4.thermo.calc.mp import query_system\n",
    "from pymatgen.core import Composition as C\n",
    "\n",
    "reaction = ReactionEnergies(\n",
    "    target=C('Na2(CoO2)3'),\n",
    "    vars_sub={},\n",
    "    species=[\n",
    "        MaterialWithEnergy(\n",
    "            thermo=MPInterpolatedMaterial(\n",
    "                compositions=[C('Na2(CoO2)3')], amounts=[1./3], mp_entries=[query_system('Na2(CoO2)3')[0]]),\n",
    "            composition=C('Na2(CoO2)3'), is_target=True, side='product', amt=1./3),\n",
    "        MaterialWithEnergy(\n",
    "            thermo=MPInterpolatedMaterial(\n",
    "                compositions=[C('CoO')], amounts=[1.], mp_entries=[query_system('CoO')[0]]),\n",
    "            composition=C('CoO'), is_target=False, side='reactant', amt=1.),\n",
    "        MaterialWithEnergy(\n",
    "            thermo=MPInterpolatedMaterial(\n",
    "                compositions=[C('Na2O2')], amounts=[1./3], mp_entries=[query_system('Na2O2')[0]]),\n",
    "            composition=C('Na2O2'), is_target=False, side='reactant', amt=1./3),\n",
    "    ]\n",
    ")\n",
    "\n",
    "compute_cascade(reaction, [500]*10, only_icsd=False)"
   ]
  },
  {
   "cell_type": "code",
   "execution_count": null,
   "id": "ad85f1ae",
   "metadata": {},
   "outputs": [],
   "source": []
  }
 ],
 "metadata": {
  "kernelspec": {
   "display_name": "Python 3",
   "language": "python",
   "name": "python3"
  },
  "language_info": {
   "codemirror_mode": {
    "name": "ipython",
    "version": 3
   },
   "file_extension": ".py",
   "mimetype": "text/x-python",
   "name": "python",
   "nbconvert_exporter": "python",
   "pygments_lexer": "ipython3",
   "version": "3.7.10"
  },
  "toc": {
   "base_numbering": 1,
   "nav_menu": {},
   "number_sections": true,
   "sideBar": true,
   "skip_h1_title": false,
   "title_cell": "Table of Contents",
   "title_sidebar": "Contents",
   "toc_cell": false,
   "toc_position": {},
   "toc_section_display": true,
   "toc_window_display": true
  }
 },
 "nbformat": 4,
 "nbformat_minor": 5
}
